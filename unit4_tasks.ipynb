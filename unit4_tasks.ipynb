{
 "cells": [
  {
   "attachments": {},
   "cell_type": "markdown",
   "metadata": {},
   "source": [
    "### Unit 4: Linear Regression with Scikit-Learn"
   ]
  },
  {
   "attachments": {},
   "cell_type": "markdown",
   "metadata": {},
   "source": [
    "### Task A - Correlation"
   ]
  },
  {
   "attachments": {},
   "cell_type": "markdown",
   "metadata": {},
   "source": [
    "Import libraries"
   ]
  },
  {
   "cell_type": "code",
   "execution_count": 41,
   "metadata": {},
   "outputs": [],
   "source": [
    "import pandas as pd\n",
    "import matplotlib.pyplot as plt\n",
    "from scipy.stats import pearsonr\n",
    "import statsmodels.api as sm\n",
    "import numpy as np"
   ]
  },
  {
   "attachments": {},
   "cell_type": "markdown",
   "metadata": {},
   "source": [
    "Load datasets"
   ]
  },
  {
   "cell_type": "code",
   "execution_count": 42,
   "metadata": {},
   "outputs": [],
   "source": [
    "gdp_df = pd.read_csv('Global_GDP.csv')\n",
    "population_df = pd.read_csv('Global_Population.csv')"
   ]
  },
  {
   "attachments": {},
   "cell_type": "markdown",
   "metadata": {},
   "source": [
    "Get first rows of gdp dataframe"
   ]
  },
  {
   "cell_type": "code",
   "execution_count": 43,
   "metadata": {},
   "outputs": [
    {
     "data": {
      "text/html": [
       "<div>\n",
       "<style scoped>\n",
       "    .dataframe tbody tr th:only-of-type {\n",
       "        vertical-align: middle;\n",
       "    }\n",
       "\n",
       "    .dataframe tbody tr th {\n",
       "        vertical-align: top;\n",
       "    }\n",
       "\n",
       "    .dataframe thead th {\n",
       "        text-align: right;\n",
       "    }\n",
       "</style>\n",
       "<table border=\"1\" class=\"dataframe\">\n",
       "  <thead>\n",
       "    <tr style=\"text-align: right;\">\n",
       "      <th></th>\n",
       "      <th>Country Name</th>\n",
       "      <th>Country Code</th>\n",
       "      <th>Indicator Name</th>\n",
       "      <th>Indicator Code</th>\n",
       "      <th>1960</th>\n",
       "      <th>1961</th>\n",
       "      <th>1962</th>\n",
       "      <th>1963</th>\n",
       "      <th>1964</th>\n",
       "      <th>1965</th>\n",
       "      <th>...</th>\n",
       "      <th>2011</th>\n",
       "      <th>2012</th>\n",
       "      <th>2013</th>\n",
       "      <th>2014</th>\n",
       "      <th>2015</th>\n",
       "      <th>2016</th>\n",
       "      <th>2017</th>\n",
       "      <th>2018</th>\n",
       "      <th>2019</th>\n",
       "      <th>2020</th>\n",
       "    </tr>\n",
       "  </thead>\n",
       "  <tbody>\n",
       "    <tr>\n",
       "      <th>0</th>\n",
       "      <td>Aruba</td>\n",
       "      <td>ABW</td>\n",
       "      <td>GDP (current US$)</td>\n",
       "      <td>NY.GDP.MKTP.CD</td>\n",
       "      <td>NaN</td>\n",
       "      <td>NaN</td>\n",
       "      <td>NaN</td>\n",
       "      <td>NaN</td>\n",
       "      <td>NaN</td>\n",
       "      <td>NaN</td>\n",
       "      <td>...</td>\n",
       "      <td>2.549721e+09</td>\n",
       "      <td>2.534637e+09</td>\n",
       "      <td>2.727850e+09</td>\n",
       "      <td>2.790849e+09</td>\n",
       "      <td>2.962905e+09</td>\n",
       "      <td>2.983637e+09</td>\n",
       "      <td>3.092430e+09</td>\n",
       "      <td>3.202189e+09</td>\n",
       "      <td>NaN</td>\n",
       "      <td>NaN</td>\n",
       "    </tr>\n",
       "    <tr>\n",
       "      <th>1</th>\n",
       "      <td>Africa Eastern and Southern</td>\n",
       "      <td>AFE</td>\n",
       "      <td>GDP (current US$)</td>\n",
       "      <td>NY.GDP.MKTP.CD</td>\n",
       "      <td>1.929944e+10</td>\n",
       "      <td>1.970954e+10</td>\n",
       "      <td>2.147872e+10</td>\n",
       "      <td>2.571501e+10</td>\n",
       "      <td>2.351080e+10</td>\n",
       "      <td>2.679160e+10</td>\n",
       "      <td>...</td>\n",
       "      <td>9.427110e+11</td>\n",
       "      <td>9.498490e+11</td>\n",
       "      <td>9.635600e+11</td>\n",
       "      <td>9.837490e+11</td>\n",
       "      <td>9.186470e+11</td>\n",
       "      <td>8.720230e+11</td>\n",
       "      <td>9.842560e+11</td>\n",
       "      <td>1.011720e+12</td>\n",
       "      <td>1.008380e+12</td>\n",
       "      <td>9.188150e+11</td>\n",
       "    </tr>\n",
       "    <tr>\n",
       "      <th>2</th>\n",
       "      <td>Afghanistan</td>\n",
       "      <td>AFG</td>\n",
       "      <td>GDP (current US$)</td>\n",
       "      <td>NY.GDP.MKTP.CD</td>\n",
       "      <td>5.377778e+08</td>\n",
       "      <td>5.488889e+08</td>\n",
       "      <td>5.466667e+08</td>\n",
       "      <td>7.511112e+08</td>\n",
       "      <td>8.000000e+08</td>\n",
       "      <td>1.006667e+09</td>\n",
       "      <td>...</td>\n",
       "      <td>1.780511e+10</td>\n",
       "      <td>1.990732e+10</td>\n",
       "      <td>2.014640e+10</td>\n",
       "      <td>2.049713e+10</td>\n",
       "      <td>1.913421e+10</td>\n",
       "      <td>1.811656e+10</td>\n",
       "      <td>1.875347e+10</td>\n",
       "      <td>1.805323e+10</td>\n",
       "      <td>1.879945e+10</td>\n",
       "      <td>2.011614e+10</td>\n",
       "    </tr>\n",
       "    <tr>\n",
       "      <th>3</th>\n",
       "      <td>Africa Western and Central</td>\n",
       "      <td>AFW</td>\n",
       "      <td>GDP (current US$)</td>\n",
       "      <td>NY.GDP.MKTP.CD</td>\n",
       "      <td>1.040428e+10</td>\n",
       "      <td>1.112805e+10</td>\n",
       "      <td>1.194335e+10</td>\n",
       "      <td>1.267652e+10</td>\n",
       "      <td>1.383858e+10</td>\n",
       "      <td>1.486247e+10</td>\n",
       "      <td>...</td>\n",
       "      <td>6.709630e+11</td>\n",
       "      <td>7.275710e+11</td>\n",
       "      <td>8.207880e+11</td>\n",
       "      <td>8.514870e+11</td>\n",
       "      <td>7.607300e+11</td>\n",
       "      <td>6.905430e+11</td>\n",
       "      <td>6.837420e+11</td>\n",
       "      <td>7.416920e+11</td>\n",
       "      <td>7.945720e+11</td>\n",
       "      <td>7.845880e+11</td>\n",
       "    </tr>\n",
       "    <tr>\n",
       "      <th>4</th>\n",
       "      <td>Angola</td>\n",
       "      <td>AGO</td>\n",
       "      <td>GDP (current US$)</td>\n",
       "      <td>NY.GDP.MKTP.CD</td>\n",
       "      <td>NaN</td>\n",
       "      <td>NaN</td>\n",
       "      <td>NaN</td>\n",
       "      <td>NaN</td>\n",
       "      <td>NaN</td>\n",
       "      <td>NaN</td>\n",
       "      <td>...</td>\n",
       "      <td>1.117900e+11</td>\n",
       "      <td>1.280530e+11</td>\n",
       "      <td>1.367100e+11</td>\n",
       "      <td>1.457120e+11</td>\n",
       "      <td>1.161940e+11</td>\n",
       "      <td>1.011240e+11</td>\n",
       "      <td>1.221240e+11</td>\n",
       "      <td>1.013530e+11</td>\n",
       "      <td>8.941719e+10</td>\n",
       "      <td>5.837598e+10</td>\n",
       "    </tr>\n",
       "  </tbody>\n",
       "</table>\n",
       "<p>5 rows × 65 columns</p>\n",
       "</div>"
      ],
      "text/plain": [
       "                  Country Name Country Code     Indicator Name  \\\n",
       "0                        Aruba          ABW  GDP (current US$)   \n",
       "1  Africa Eastern and Southern          AFE  GDP (current US$)   \n",
       "2                  Afghanistan          AFG  GDP (current US$)   \n",
       "3   Africa Western and Central          AFW  GDP (current US$)   \n",
       "4                       Angola          AGO  GDP (current US$)   \n",
       "\n",
       "   Indicator Code          1960          1961          1962          1963  \\\n",
       "0  NY.GDP.MKTP.CD           NaN           NaN           NaN           NaN   \n",
       "1  NY.GDP.MKTP.CD  1.929944e+10  1.970954e+10  2.147872e+10  2.571501e+10   \n",
       "2  NY.GDP.MKTP.CD  5.377778e+08  5.488889e+08  5.466667e+08  7.511112e+08   \n",
       "3  NY.GDP.MKTP.CD  1.040428e+10  1.112805e+10  1.194335e+10  1.267652e+10   \n",
       "4  NY.GDP.MKTP.CD           NaN           NaN           NaN           NaN   \n",
       "\n",
       "           1964          1965  ...          2011          2012          2013  \\\n",
       "0           NaN           NaN  ...  2.549721e+09  2.534637e+09  2.727850e+09   \n",
       "1  2.351080e+10  2.679160e+10  ...  9.427110e+11  9.498490e+11  9.635600e+11   \n",
       "2  8.000000e+08  1.006667e+09  ...  1.780511e+10  1.990732e+10  2.014640e+10   \n",
       "3  1.383858e+10  1.486247e+10  ...  6.709630e+11  7.275710e+11  8.207880e+11   \n",
       "4           NaN           NaN  ...  1.117900e+11  1.280530e+11  1.367100e+11   \n",
       "\n",
       "           2014          2015          2016          2017          2018  \\\n",
       "0  2.790849e+09  2.962905e+09  2.983637e+09  3.092430e+09  3.202189e+09   \n",
       "1  9.837490e+11  9.186470e+11  8.720230e+11  9.842560e+11  1.011720e+12   \n",
       "2  2.049713e+10  1.913421e+10  1.811656e+10  1.875347e+10  1.805323e+10   \n",
       "3  8.514870e+11  7.607300e+11  6.905430e+11  6.837420e+11  7.416920e+11   \n",
       "4  1.457120e+11  1.161940e+11  1.011240e+11  1.221240e+11  1.013530e+11   \n",
       "\n",
       "           2019          2020  \n",
       "0           NaN           NaN  \n",
       "1  1.008380e+12  9.188150e+11  \n",
       "2  1.879945e+10  2.011614e+10  \n",
       "3  7.945720e+11  7.845880e+11  \n",
       "4  8.941719e+10  5.837598e+10  \n",
       "\n",
       "[5 rows x 65 columns]"
      ]
     },
     "execution_count": 43,
     "metadata": {},
     "output_type": "execute_result"
    }
   ],
   "source": [
    "gdp_df.head()"
   ]
  },
  {
   "attachments": {},
   "cell_type": "markdown",
   "metadata": {},
   "source": [
    "Get first rows of population dataframe"
   ]
  },
  {
   "cell_type": "code",
   "execution_count": 44,
   "metadata": {},
   "outputs": [
    {
     "data": {
      "text/html": [
       "<div>\n",
       "<style scoped>\n",
       "    .dataframe tbody tr th:only-of-type {\n",
       "        vertical-align: middle;\n",
       "    }\n",
       "\n",
       "    .dataframe tbody tr th {\n",
       "        vertical-align: top;\n",
       "    }\n",
       "\n",
       "    .dataframe thead th {\n",
       "        text-align: right;\n",
       "    }\n",
       "</style>\n",
       "<table border=\"1\" class=\"dataframe\">\n",
       "  <thead>\n",
       "    <tr style=\"text-align: right;\">\n",
       "      <th></th>\n",
       "      <th>Country Name</th>\n",
       "      <th>Country Code</th>\n",
       "      <th>Series Name</th>\n",
       "      <th>Series Code</th>\n",
       "      <th>1960</th>\n",
       "      <th>1961</th>\n",
       "      <th>1962</th>\n",
       "      <th>1963</th>\n",
       "      <th>1964</th>\n",
       "      <th>1965</th>\n",
       "      <th>...</th>\n",
       "      <th>2012</th>\n",
       "      <th>2013</th>\n",
       "      <th>2014</th>\n",
       "      <th>2015</th>\n",
       "      <th>2016</th>\n",
       "      <th>2017</th>\n",
       "      <th>2018</th>\n",
       "      <th>2019</th>\n",
       "      <th>2020</th>\n",
       "      <th>2021</th>\n",
       "    </tr>\n",
       "  </thead>\n",
       "  <tbody>\n",
       "    <tr>\n",
       "      <th>0</th>\n",
       "      <td>Aruba</td>\n",
       "      <td>ABW</td>\n",
       "      <td>Population, total</td>\n",
       "      <td>SP.POP.TOTL</td>\n",
       "      <td>54211</td>\n",
       "      <td>55438</td>\n",
       "      <td>56225</td>\n",
       "      <td>56695</td>\n",
       "      <td>57032</td>\n",
       "      <td>57360</td>\n",
       "      <td>...</td>\n",
       "      <td>102560</td>\n",
       "      <td>103159</td>\n",
       "      <td>103774</td>\n",
       "      <td>104341</td>\n",
       "      <td>104872</td>\n",
       "      <td>105366</td>\n",
       "      <td>105845</td>\n",
       "      <td>106314</td>\n",
       "      <td>NaN</td>\n",
       "      <td>NaN</td>\n",
       "    </tr>\n",
       "    <tr>\n",
       "      <th>1</th>\n",
       "      <td>Afghanistan</td>\n",
       "      <td>AFG</td>\n",
       "      <td>Population, total</td>\n",
       "      <td>SP.POP.TOTL</td>\n",
       "      <td>8996967</td>\n",
       "      <td>9169406</td>\n",
       "      <td>9351442</td>\n",
       "      <td>9543200</td>\n",
       "      <td>9744772</td>\n",
       "      <td>9956318</td>\n",
       "      <td>...</td>\n",
       "      <td>31161378</td>\n",
       "      <td>32269592</td>\n",
       "      <td>33370804</td>\n",
       "      <td>34413603</td>\n",
       "      <td>35383028</td>\n",
       "      <td>36296111</td>\n",
       "      <td>37171922</td>\n",
       "      <td>38041757</td>\n",
       "      <td>38928341</td>\n",
       "      <td>39835000</td>\n",
       "    </tr>\n",
       "    <tr>\n",
       "      <th>2</th>\n",
       "      <td>Africa Eastern and Southern</td>\n",
       "      <td>AFE</td>\n",
       "      <td>Population, total</td>\n",
       "      <td>SP.POP.TOTL</td>\n",
       "      <td>130836765</td>\n",
       "      <td>134159786</td>\n",
       "      <td>137614644</td>\n",
       "      <td>141202036</td>\n",
       "      <td>144920186</td>\n",
       "      <td>148769974</td>\n",
       "      <td>...</td>\n",
       "      <td>547482863</td>\n",
       "      <td>562601578</td>\n",
       "      <td>578075373</td>\n",
       "      <td>593871847</td>\n",
       "      <td>609978946</td>\n",
       "      <td>626392880</td>\n",
       "      <td>643090131</td>\n",
       "      <td>660046272</td>\n",
       "      <td>677243299</td>\n",
       "      <td>694664000</td>\n",
       "    </tr>\n",
       "    <tr>\n",
       "      <th>3</th>\n",
       "      <td>Africa Western and Central</td>\n",
       "      <td>AFW</td>\n",
       "      <td>Population, total</td>\n",
       "      <td>SP.POP.TOTL</td>\n",
       "      <td>96396419</td>\n",
       "      <td>98407221</td>\n",
       "      <td>100506960</td>\n",
       "      <td>102691339</td>\n",
       "      <td>104953470</td>\n",
       "      <td>107289875</td>\n",
       "      <td>...</td>\n",
       "      <td>370243017</td>\n",
       "      <td>380437896</td>\n",
       "      <td>390882979</td>\n",
       "      <td>401586651</td>\n",
       "      <td>412551299</td>\n",
       "      <td>423769930</td>\n",
       "      <td>435229381</td>\n",
       "      <td>446911598</td>\n",
       "      <td>458803476</td>\n",
       "      <td>470898000</td>\n",
       "    </tr>\n",
       "    <tr>\n",
       "      <th>4</th>\n",
       "      <td>Albania</td>\n",
       "      <td>ALB</td>\n",
       "      <td>Population, total</td>\n",
       "      <td>SP.POP.TOTL</td>\n",
       "      <td>1608800</td>\n",
       "      <td>1659800</td>\n",
       "      <td>1711319</td>\n",
       "      <td>1762621</td>\n",
       "      <td>1814135</td>\n",
       "      <td>1864791</td>\n",
       "      <td>...</td>\n",
       "      <td>2900401</td>\n",
       "      <td>2895092</td>\n",
       "      <td>2889104</td>\n",
       "      <td>2880703</td>\n",
       "      <td>2876101</td>\n",
       "      <td>2873457</td>\n",
       "      <td>2866376</td>\n",
       "      <td>2854191</td>\n",
       "      <td>2837743</td>\n",
       "      <td>2832000</td>\n",
       "    </tr>\n",
       "  </tbody>\n",
       "</table>\n",
       "<p>5 rows × 66 columns</p>\n",
       "</div>"
      ],
      "text/plain": [
       "                  Country Name Country Code        Series Name  Series Code  \\\n",
       "0                        Aruba          ABW  Population, total  SP.POP.TOTL   \n",
       "1                  Afghanistan          AFG  Population, total  SP.POP.TOTL   \n",
       "2  Africa Eastern and Southern          AFE  Population, total  SP.POP.TOTL   \n",
       "3   Africa Western and Central          AFW  Population, total  SP.POP.TOTL   \n",
       "4                      Albania          ALB  Population, total  SP.POP.TOTL   \n",
       "\n",
       "        1960       1961       1962       1963       1964       1965  ...  \\\n",
       "0      54211      55438      56225      56695      57032      57360  ...   \n",
       "1    8996967    9169406    9351442    9543200    9744772    9956318  ...   \n",
       "2  130836765  134159786  137614644  141202036  144920186  148769974  ...   \n",
       "3   96396419   98407221  100506960  102691339  104953470  107289875  ...   \n",
       "4    1608800    1659800    1711319    1762621    1814135    1864791  ...   \n",
       "\n",
       "        2012       2013       2014       2015       2016       2017  \\\n",
       "0     102560     103159     103774     104341     104872     105366   \n",
       "1   31161378   32269592   33370804   34413603   35383028   36296111   \n",
       "2  547482863  562601578  578075373  593871847  609978946  626392880   \n",
       "3  370243017  380437896  390882979  401586651  412551299  423769930   \n",
       "4    2900401    2895092    2889104    2880703    2876101    2873457   \n",
       "\n",
       "        2018       2019       2020       2021  \n",
       "0     105845     106314        NaN        NaN  \n",
       "1   37171922   38041757   38928341   39835000  \n",
       "2  643090131  660046272  677243299  694664000  \n",
       "3  435229381  446911598  458803476  470898000  \n",
       "4    2866376    2854191    2837743    2832000  \n",
       "\n",
       "[5 rows x 66 columns]"
      ]
     },
     "execution_count": 44,
     "metadata": {},
     "output_type": "execute_result"
    }
   ],
   "source": [
    "population_df.head()"
   ]
  },
  {
   "attachments": {},
   "cell_type": "markdown",
   "metadata": {},
   "source": [
    "Check for missing values"
   ]
  },
  {
   "cell_type": "code",
   "execution_count": 45,
   "metadata": {},
   "outputs": [
    {
     "name": "stdout",
     "output_type": "stream",
     "text": [
      "Missing values in GDP data:\n",
      " Country Name        0\n",
      "Country Code        0\n",
      "Indicator Name      0\n",
      "Indicator Code      0\n",
      "1960              138\n",
      "                 ... \n",
      "2016               10\n",
      "2017               10\n",
      "2018               10\n",
      "2019               13\n",
      "2020               25\n",
      "Length: 65, dtype: int64\n",
      "Missing values in Population data:\n",
      " Country Name    3\n",
      "Country Code    5\n",
      "Series Name     5\n",
      "Series Code     5\n",
      "1960            5\n",
      "               ..\n",
      "2017            5\n",
      "2018            5\n",
      "2019            5\n",
      "2020            6\n",
      "2021            6\n",
      "Length: 66, dtype: int64\n"
     ]
    }
   ],
   "source": [
    "print(\"Missing values in GDP data:\\n\", gdp_df.isnull().sum())\n",
    "print(\"Missing values in Population data:\\n\", population_df.isnull().sum())\n"
   ]
  },
  {
   "attachments": {},
   "cell_type": "markdown",
   "metadata": {},
   "source": [
    "Drop missing values, replace missing numerical values in gdp with mean"
   ]
  },
  {
   "cell_type": "code",
   "execution_count": 46,
   "metadata": {},
   "outputs": [
    {
     "name": "stdout",
     "output_type": "stream",
     "text": [
      "Missing values in GDP data:\n",
      " Country Name      0\n",
      "Country Code      0\n",
      "Indicator Name    0\n",
      "Indicator Code    0\n",
      "1960              0\n",
      "                 ..\n",
      "2016              0\n",
      "2017              0\n",
      "2018              0\n",
      "2019              0\n",
      "2020              0\n",
      "Length: 65, dtype: int64\n",
      "Missing values in Population data:\n",
      " Country Name    0\n",
      "Country Code    0\n",
      "Series Name     0\n",
      "Series Code     0\n",
      "1960            0\n",
      "               ..\n",
      "2017            0\n",
      "2018            0\n",
      "2019            0\n",
      "2020            0\n",
      "2021            0\n",
      "Length: 66, dtype: int64\n"
     ]
    }
   ],
   "source": [
    "missing_country_names = population_df[population_df['Country Name'].isnull()]\n",
    "population_df.dropna(subset=population_df.select_dtypes(include='object').columns, inplace=True)\n",
    "numerical_columns_gdp = gdp_df.select_dtypes(include=np.number).columns.tolist()\n",
    "gdp_df[numerical_columns_gdp] = gdp_df[numerical_columns_gdp].fillna(gdp_df[numerical_columns_gdp].mean())\n",
    "print(\"Missing values in GDP data:\\n\", gdp_df.isnull().sum())\n",
    "print(\"Missing values in Population data:\\n\", population_df.isnull().sum())\n"
   ]
  },
  {
   "attachments": {},
   "cell_type": "markdown",
   "metadata": {},
   "source": [
    "Mean population of each country (from 2001 to 2020 - 2021 not in index)"
   ]
  },
  {
   "cell_type": "code",
   "execution_count": 47,
   "metadata": {},
   "outputs": [
    {
     "name": "stdout",
     "output_type": "stream",
     "text": [
      "Mean Population DataFrame:\n",
      "                     Country Name Country Code  Mean_Population\n",
      "1                    Afghanistan          AFG     3.021299e+07\n",
      "2    Africa Eastern and Southern          AFE     5.321282e+08\n",
      "3     Africa Western and Central          AFW     3.594714e+08\n",
      "4                        Albania          ALB     2.935900e+06\n",
      "5                        Algeria          DZA     3.685864e+07\n",
      "..                           ...          ...              ...\n",
      "262           West Bank and Gaza          PSE     3.850798e+06\n",
      "263                        World          WLD     6.971252e+09\n",
      "264                  Yemen, Rep.          YEM     2.363835e+07\n",
      "265                       Zambia          ZMB     1.410907e+07\n",
      "266                     Zimbabwe          ZWE     1.304740e+07\n",
      "\n",
      "[266 rows x 3 columns]\n"
     ]
    }
   ],
   "source": [
    "# Calculate the mean for the years 2001 to 2020 (2021 not in index) for each country\n",
    "years = ['2001', '2002', '2003', '2004', '2005', '2006', '2007', '2008', '2009', '2010',\n",
    "         '2011', '2012', '2013', '2014', '2015', '2016', '2017', '2018', '2019', '2020']\n",
    "\n",
    "for year in years:\n",
    "    population_df[year] = pd.to_numeric(population_df[year], errors='coerce')\n",
    "\n",
    "\n",
    "population_df['Mean_Population'] = population_df[years].mean(axis=1)\n",
    "\n",
    "# Create a new DataFrame with Country and Mean GDP\n",
    "mean_population_df = population_df[['Country Name', 'Country Code', 'Mean_Population']]\n",
    "\n",
    "# Display the new DataFrame with mean GDP\n",
    "print(\"Mean Population DataFrame:\\n\", mean_population_df)"
   ]
  },
  {
   "attachments": {},
   "cell_type": "markdown",
   "metadata": {},
   "source": [
    "Mean per capita GDP (from 2001 to 2020 - 2021 not in index)"
   ]
  },
  {
   "cell_type": "code",
   "execution_count": 48,
   "metadata": {},
   "outputs": [
    {
     "name": "stdout",
     "output_type": "stream",
     "text": [
      "Mean GDP DataFrame:\n",
      "                     Country Name Country Code      Mean_GDP\n",
      "0                          Aruba          ABW  2.906725e+11\n",
      "1    Africa Eastern and Southern          AFE  7.441522e+11\n",
      "2                    Afghanistan          AFG  6.471392e+10\n",
      "3     Africa Western and Central          AFW  5.570494e+11\n",
      "4                         Angola          AGO  7.868516e+10\n",
      "..                           ...          ...           ...\n",
      "261                       Kosovo          XKX  5.008561e+11\n",
      "262                  Yemen, Rep.          YEM  3.114042e+11\n",
      "263                 South Africa          ZAF  3.280526e+11\n",
      "264                       Zambia          ZMB  1.740083e+10\n",
      "265                     Zimbabwe          ZWE  1.253090e+10\n",
      "\n",
      "[266 rows x 3 columns]\n"
     ]
    }
   ],
   "source": [
    "# Calculate the mean for the years 2001 to 2020 (2021 not in index) for each country\n",
    "gdp_df['Mean_GDP'] = gdp_df[years].mean(axis=1)\n",
    "\n",
    "# Create a new DataFrame with Country and Mean GDP\n",
    "mean_gdp_df = gdp_df[['Country Name', 'Country Code', 'Mean_GDP']]\n",
    "\n",
    "# Display the new DataFrame with mean GDP\n",
    "print(\"Mean GDP DataFrame:\\n\", mean_gdp_df)"
   ]
  },
  {
   "attachments": {},
   "cell_type": "markdown",
   "metadata": {},
   "source": [
    "Merge datasets on country names and codes"
   ]
  },
  {
   "cell_type": "code",
   "execution_count": 49,
   "metadata": {},
   "outputs": [],
   "source": [
    "merged_data = pd.merge(mean_gdp_df, mean_population_df, on=['Country Name', 'Country Code'])\n",
    "merged_data.head()\n",
    "merged_data.dropna(subset=merged_data.select_dtypes(include='object').columns, inplace=True)"
   ]
  },
  {
   "attachments": {},
   "cell_type": "markdown",
   "metadata": {},
   "source": [
    "Calculate Pearson correlation coefficient"
   ]
  },
  {
   "cell_type": "code",
   "execution_count": 50,
   "metadata": {},
   "outputs": [
    {
     "data": {
      "image/png": "[encoded data removed]",
      "text/plain": [
       "<Figure size 640x480 with 1 Axes>"
      ]
     },
     "metadata": {},
     "output_type": "display_data"
    },
    {
     "name": "stdout",
     "output_type": "stream",
     "text": [
      "Pearsons correlation: 0.711\n"
     ]
    }
   ],
   "source": [
    "numerical_merged_data = merged_data.select_dtypes(include=np.number).columns.tolist()\n",
    "merged_data[numerical_merged_data] = merged_data[numerical_merged_data].fillna(merged_data[numerical_merged_data].mean())\n",
    "\n",
    "# calculate Pearson's correlation\n",
    "corr, _ = pearsonr(merged_data['Mean_GDP'], merged_data['Mean_Population'])\n",
    "\n",
    "#plot\n",
    "plt.scatter(merged_data['Mean_GDP'], merged_data['Mean_Population'])\n",
    "plt.show()\n",
    "\n",
    "print('Pearsons correlation: %.3f' % corr)\n"
   ]
  },
  {
   "attachments": {},
   "cell_type": "markdown",
   "metadata": {},
   "source": [
    "### Task B: Linear Regression"
   ]
  },
  {
   "cell_type": "code",
   "execution_count": 51,
   "metadata": {},
   "outputs": [
    {
     "data": {
      "image/png": "[encoded data removed]",
      "text/plain": [
       "<Figure size 1000x600 with 1 Axes>"
      ]
     },
     "metadata": {},
     "output_type": "display_data"
    },
    {
     "name": "stdout",
     "output_type": "stream",
     "text": [
      "                            OLS Regression Results                            \n",
      "==============================================================================\n",
      "Dep. Variable:               Mean_GDP   R-squared:                       0.506\n",
      "Model:                            OLS   Adj. R-squared:                  0.504\n",
      "Method:                 Least Squares   F-statistic:                     270.5\n",
      "Date:                Sun, 20 Oct 2024   Prob (F-statistic):           2.54e-42\n",
      "Time:                        22:01:37   Log-Likelihood:                -8155.1\n",
      "No. Observations:                 266   AIC:                         1.631e+04\n",
      "Df Residuals:                     264   BIC:                         1.632e+04\n",
      "Df Model:                           1                                         \n",
      "Covariance Type:            nonrobust                                         \n",
      "===================================================================================\n",
      "                      coef    std err          t      P>|t|      [0.025      0.975]\n",
      "-----------------------------------------------------------------------------------\n",
      "const            6.033e+11   3.22e+11      1.876      0.062   -2.99e+10    1.24e+12\n",
      "Mean_Population  6008.1467    365.339     16.445      0.000    5288.797    6727.496\n",
      "==============================================================================\n",
      "Omnibus:                      295.232   Durbin-Watson:                   2.039\n",
      "Prob(Omnibus):                  0.000   Jarque-Bera (JB):            11510.254\n",
      "Skew:                           4.740   Prob(JB):                         0.00\n",
      "Kurtosis:                      33.800   Cond. No.                     9.21e+08\n",
      "==============================================================================\n",
      "\n",
      "Notes:\n",
      "[1] Standard Errors assume that the covariance matrix of the errors is correctly specified.\n",
      "[2] The condition number is large, 9.21e+08. This might indicate that there are\n",
      "strong multicollinearity or other numerical problems.\n"
     ]
    }
   ],
   "source": [
    "# # Linear Regression\n",
    "population = merged_data['Mean_Population']\n",
    "gdp = merged_data['Mean_GDP']\n",
    "population_const = sm.add_constant(population)  # Add constant for intercept\n",
    "model = sm.OLS(gdp, population_const).fit()\n",
    "\n",
    "# Predict values\n",
    "predicted_gdp = model.predict(population_const)\n",
    "\n",
    "plt.figure(figsize=(10, 6))\n",
    "plt.scatter(population, gdp, label='Actual Data', color='blue')  # Plot actual data\n",
    "plt.plot(population, predicted_gdp, color='red', label='Regression Line')  # Plot regression line\n",
    "\n",
    "# Adding labels and title\n",
    "plt.title('Population vs. GDP')\n",
    "plt.xlabel('Mean Population')\n",
    "plt.ylabel('Mean GDP')\n",
    "plt.legend()\n",
    "plt.grid(True)\n",
    "plt.show()\n",
    "\n",
    "print(model.summary())"
   ]
  }
 ],
 "metadata": {
  "kernelspec": {
   "display_name": "base",
   "language": "python",
   "name": "python3"
  },
  "language_info": {
   "codemirror_mode": {
    "name": "ipython",
    "version": 3
   },
   "file_extension": ".py",
   "mimetype": "text/x-python",
   "name": "python",
   "nbconvert_exporter": "python",
   "pygments_lexer": "ipython3",
   "version": "3.12.4"
  },
  "orig_nbformat": 4,
  "vscode": {
   "interpreter": {
    "hash": "40d3a090f54c6569ab1632332b64b2c03c39dcf918b08424e98f38b5ae0af88f"
   }
  }
 },
 "nbformat": 4,
 "nbformat_minor": 2
}
